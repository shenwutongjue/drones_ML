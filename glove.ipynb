{
 "cells": [
  {
   "cell_type": "code",
   "execution_count": 1,
   "id": "df6fb23c",
   "metadata": {},
   "outputs": [],
   "source": [
    "#load model and scaler, change model name if using other pickeled models\n",
    "import pickle\n",
    "from sklearn.preprocessing import StandardScaler\n",
    "from sklearn.multiclass import OneVsRestClassifier\n",
    "from sklearn.neighbors import KNeighborsClassifier\n",
    "\n",
    "file_path = \"best_SVM_1v1_model.pkl\"\n",
    "with open(file_path, 'rb') as f:\n",
    "    loaded_model = pickle.load(f)\n",
    "    \n",
    "file_path = \"standard_scaler.pkl\"\n",
    "with open(file_path, 'rb') as f:\n",
    "    scaler = pickle.load(f)"
   ]
  },
  {
   "cell_type": "code",
   "execution_count": 3,
   "id": "4364c52c",
   "metadata": {},
   "outputs": [
    {
     "name": "stdout",
     "output_type": "stream",
     "text": [
      "keyboard interrupt\n"
     ]
    }
   ],
   "source": [
    "#predict\n",
    "from serial import*\n",
    "from collections import deque \n",
    "#ser.close()\n",
    "serialPort = 'COM3'\n",
    "baudRate = 19200\n",
    "ser = Serial(serialPort,baudRate,timeout=1)\n",
    "inputBuffer = deque()\n",
    "first = True\n",
    "try:\n",
    "    data = ser.readline()\n",
    "    while True:\n",
    "        data = ser.readline()\n",
    "        #GyroXRaw = 0\n",
    "        #GyroYRaw = 0\n",
    "        #GyroZRaw = 0\n",
    "        flexThumb = 0\n",
    "        flexIndex = 0\n",
    "        flexMiddle = 0\n",
    "        flexRing = 0\n",
    "        flexPinky = 0\n",
    "        try:\n",
    "            #GyroXRaw = int(data[2:8].decode('utf-8'))\n",
    "            #GyroYRaw = int(data[10:16].decode('utf-8'))\n",
    "            #GyroZRaw = int(data[18:23].decode('utf-8'))\n",
    "            flexThumb = int(data[27:33].decode('utf-8'))\n",
    "            flexIndex = int(data[37:43].decode('utf-8'))\n",
    "            flexMiddle = int(data[47:53].decode('utf-8'))\n",
    "            flexRing = int(data[57:63].decode('utf-8'))\n",
    "            flexPinky = int(data[67:73].decode('utf-8'))\n",
    "            \n",
    "            flexList = [flexThumb, flexIndex, flexMiddle, flexRing, flexPinky]\n",
    "            inputBuffer.append(flexList)\n",
    "            #print( \"F1: \", flexThumb, \"F2: \", flexIndex, \"F3: \", flexMiddle, \"F4: \", flexRing, \"F5: \", flexPinky)\n",
    "            #print(flexList)\n",
    "            if len(inputBuffer) >= 20:\n",
    "                inputBuffer.pop()\n",
    "                print(\"predicting...\")\n",
    "                if first:\n",
    "                    X_Input_standardized = scaler.fit_transform(inputBuffer)\n",
    "                    first == False\n",
    "                else:\n",
    "                    X_Input_standardized = scaler.transform(inputBuffer)\n",
    "                #print(\"standardized\")\n",
    "                #print(X_Input_standardized)\n",
    "                y_pred_test = loaded_model.predict(X_Input_standardized)\n",
    "                print(\"finished predicting\")\n",
    "                print(y_pred_test)\n",
    "                #inputBuffer = deque()\n",
    "                \n",
    "                \n",
    "        except Exception:\n",
    "            pass\n",
    "        \n",
    "        #print( \"F1: \", flexThumb, \"F2: \", flexIndex, \"F3: \", flexMiddle, \"F4: \", flexRing, \"F5: \", flexPinky)\n",
    "        \n",
    "except KeyboardInterrupt:\n",
    "    print(\"keyboard interrupt\")\n",
    "finally:\n",
    "    ser.close()"
   ]
  },
  {
   "cell_type": "code",
   "execution_count": null,
   "id": "5375efce",
   "metadata": {},
   "outputs": [],
   "source": [
    "#rest of the code are for model testing with hard-coded data"
   ]
  },
  {
   "cell_type": "code",
   "execution_count": 14,
   "id": "cb3f57bc",
   "metadata": {},
   "outputs": [
    {
     "name": "stdout",
     "output_type": "stream",
     "text": [
      "[32435, 11403, 12060, 11868, 15710]\n",
      "[32369, 11416, 12073, 11792, 15805]\n",
      "[32402, 11428, 12009, 11766, 15837]\n",
      "[32303, 11465, 12060, 11855, 15710]\n",
      "[32369, 11465, 11970, 11766, 15663]\n",
      "[32271, 11453, 11893, 11817, 15710]\n",
      "[32238, 11453, 11804, 11741, 15663]\n",
      "[32271, 11403, 11766, 11653, 15710]\n",
      "[32140, 11391, 11653, 11703, 15773]\n",
      "[32369, 11354, 11728, 11754, 16093]\n",
      "[19708, 21458, 23777, 20275, 10771]\n",
      "[19689, 21375, 23777, 20315, 10819]\n",
      "[19477, 21375, 23777, 20355, 10843]\n",
      "[19024, 21375, 23707, 20315, 10867]\n",
      "[18654, 21458, 23730, 20315, 10783]\n",
      "[18399, 21375, 23800, 20395, 10771]\n",
      "[17951, 21375, 23777, 20256, 10831]\n",
      "[17050, 21270, 23940, 20395, 10855]\n",
      "[16983, 21375, 23940, 20355, 10831]\n",
      "[17016, 21312, 23754, 20275, 10819]\n"
     ]
    }
   ],
   "source": [
    "from collections import deque\n",
    "\n",
    "num_rows = 20\n",
    "num_cols = 5\n",
    "\n",
    "data = [\n",
    "    [32435, 11403, 12060, 11868, 15710],\n",
    "    [32369, 11416, 12073, 11792, 15805],\n",
    "    [32402, 11428, 12009, 11766, 15837],\n",
    "    [32303, 11465, 12060, 11855, 15710],\n",
    "    [32369, 11465, 11970, 11766, 15663],\n",
    "    [32271, 11453, 11893, 11817, 15710],\n",
    "    [32238, 11453, 11804, 11741, 15663],\n",
    "    [32271, 11403, 11766, 11653, 15710],\n",
    "    [32140, 11391, 11653, 11703, 15773],\n",
    "    [32369, 11354, 11728, 11754, 16093],\n",
    "    [19708, 21458, 23777, 20275, 10771],\n",
    "    [19689, 21375, 23777, 20315, 10819],\n",
    "    [19477, 21375, 23777, 20355, 10843],\n",
    "    [19024, 21375, 23707, 20315, 10867],\n",
    "    [18654, 21458, 23730, 20315, 10783],\n",
    "    [18399, 21375, 23800, 20395, 10771],\n",
    "    [17951, 21375, 23777, 20256, 10831],\n",
    "    [17050, 21270, 23940, 20395, 10855],\n",
    "    [16983, 21375, 23940, 20355, 10831],\n",
    "    [17016, 21312, 23754, 20275, 10819]\n",
    "]\n",
    "\n",
    "X_input = deque(maxlen=num_rows)\n",
    "\n",
    "for row in data:\n",
    "    X_input.append(row)\n",
    "\n",
    "for row in X_input:\n",
    "    print(row)"
   ]
  },
  {
   "cell_type": "code",
   "execution_count": 16,
   "id": "bdf81a05",
   "metadata": {},
   "outputs": [],
   "source": [
    "X_Input_standardized = scaler.fit_transform(X_input)\n",
    "#X_Input_standardized1 = scaler.fit_transform(X_input1)"
   ]
  },
  {
   "cell_type": "code",
   "execution_count": 5,
   "id": "da108bfe",
   "metadata": {},
   "outputs": [
    {
     "data": {
      "text/plain": [
       "array([[ 1.01126935, -1.00399819, -0.97318241, -0.97735563,  0.9761723 ],\n",
       "       [ 1.00184107, -1.00138568, -0.97099728, -0.99512446,  1.01454386],\n",
       "       [ 1.00655521, -0.99897413, -0.98175485, -1.00120327,  1.02746901],\n",
       "       [ 0.99241278, -0.99153852, -0.97318241, -0.98039503,  0.9761723 ],\n",
       "       [ 1.00184107, -0.99153852, -0.98831025, -1.00120327,  0.95718848],\n",
       "       [ 0.98784149, -0.99395007, -1.00125296, -0.98927945,  0.9761723 ],\n",
       "       [ 0.98312735, -0.99395007, -1.01621271, -1.00704827,  0.95718848],\n",
       "       [ 0.98784149, -1.00399819, -1.02260002, -1.02762271,  0.9761723 ],\n",
       "       [ 0.96912777, -1.00640974, -1.04159387, -1.01593269,  1.0016187 ],\n",
       "       [ 1.00184107, -1.01384535, -1.02898733, -1.00400887,  1.13087025],\n",
       "       [-0.8068184 ,  1.01667892,  0.99629439,  0.98820397, -1.01874453],\n",
       "       [-0.80953261,  0.99999904,  0.99629439,  0.99755598, -0.9993568 ],\n",
       "       [-0.8398174 ,  0.99999904,  0.99629439,  1.00690799, -0.98966293],\n",
       "       [-0.90452973,  0.99999904,  0.98452829,  0.99755598, -0.97996907],\n",
       "       [-0.95738527,  1.01667892,  0.98839429,  0.99755598, -1.0138976 ],\n",
       "       [-0.99381274,  0.99999904,  1.00016039,  1.01626001, -1.01874453],\n",
       "       [-1.0578108 ,  0.99999904,  0.99629439,  0.98376176, -0.99450987],\n",
       "       [-1.18652118,  0.97889799,  1.02369259,  1.01626001, -0.984816  ],\n",
       "       [-1.19609232,  0.99999904,  1.02369259,  1.00690799, -0.99450987],\n",
       "       [-1.19137818,  0.98733841,  0.99242839,  0.98820397, -0.9993568 ]])"
      ]
     },
     "execution_count": 5,
     "metadata": {},
     "output_type": "execute_result"
    }
   ],
   "source": [
    "X_Input_standardized"
   ]
  },
  {
   "cell_type": "code",
   "execution_count": 6,
   "id": "28b5aee0",
   "metadata": {},
   "outputs": [],
   "source": [
    "y_pred_test = loaded_model.predict(X_Input_standardized)\n",
    "#y_pred_test1 = model.predict(X_Input_standardized1)"
   ]
  },
  {
   "cell_type": "code",
   "execution_count": 7,
   "id": "08cf385d",
   "metadata": {},
   "outputs": [
    {
     "data": {
      "text/plain": [
       "array([4, 4, 4, 4, 4, 4, 4, 4, 4, 4, 5, 5, 5, 5, 5, 5, 5, 5, 5, 5],\n",
       "      dtype=int64)"
      ]
     },
     "execution_count": 7,
     "metadata": {},
     "output_type": "execute_result"
    }
   ],
   "source": [
    "y_pred_test"
   ]
  },
  {
   "cell_type": "code",
   "execution_count": 1,
   "id": "580518f7",
   "metadata": {},
   "outputs": [
    {
     "ename": "NameError",
     "evalue": "name 'inputBuffer' is not defined",
     "output_type": "error",
     "traceback": [
      "\u001b[1;31m---------------------------------------------------------------------------\u001b[0m",
      "\u001b[1;31mNameError\u001b[0m                                 Traceback (most recent call last)",
      "\u001b[1;32m~\\AppData\\Local\\Temp\\ipykernel_12160\\3359669131.py\u001b[0m in \u001b[0;36m<module>\u001b[1;34m\u001b[0m\n\u001b[1;32m----> 1\u001b[1;33m \u001b[0mprint\u001b[0m\u001b[1;33m(\u001b[0m\u001b[0minputBuffer\u001b[0m\u001b[1;33m)\u001b[0m\u001b[1;33m\u001b[0m\u001b[1;33m\u001b[0m\u001b[0m\n\u001b[0m",
      "\u001b[1;31mNameError\u001b[0m: name 'inputBuffer' is not defined"
     ]
    }
   ],
   "source": [
    "print(inputBuffer)"
   ]
  },
  {
   "cell_type": "code",
   "execution_count": 15,
   "id": "3213ee59",
   "metadata": {},
   "outputs": [
    {
     "name": "stdout",
     "output_type": "stream",
     "text": [
      "deque([[32435, 11403, 12060, 11868, 15710], [32369, 11416, 12073, 11792, 15805], [32402, 11428, 12009, 11766, 15837], [32303, 11465, 12060, 11855, 15710], [32369, 11465, 11970, 11766, 15663], [32271, 11453, 11893, 11817, 15710], [32238, 11453, 11804, 11741, 15663], [32271, 11403, 11766, 11653, 15710], [32140, 11391, 11653, 11703, 15773], [32369, 11354, 11728, 11754, 16093], [19708, 21458, 23777, 20275, 10771], [19689, 21375, 23777, 20315, 10819], [19477, 21375, 23777, 20355, 10843], [19024, 21375, 23707, 20315, 10867], [18654, 21458, 23730, 20315, 10783], [18399, 21375, 23800, 20395, 10771], [17951, 21375, 23777, 20256, 10831], [17050, 21270, 23940, 20395, 10855], [16983, 21375, 23940, 20355, 10831], [17016, 21312, 23754, 20275, 10819]], maxlen=20)\n"
     ]
    }
   ],
   "source": [
    "print(X_input)"
   ]
  },
  {
   "cell_type": "code",
   "execution_count": 23,
   "id": "a8aec2c8",
   "metadata": {},
   "outputs": [
    {
     "name": "stdout",
     "output_type": "stream",
     "text": [
      "[0.60793035, 0.57354901, -0.16302764, 0.07988306, -1.31953627]\n",
      "[0.74135401, 0.57354901, 0.59944008, -2.22489102, 2.16060047]\n",
      "[0.60793035, -1.21969916, 1.31425357, -0.70711297, 2.16060047]\n",
      "[0.53931247, 0.57354901, 1.31425357, 0.07988306, 0.4560437]\n",
      "[0.74135401, 0.57354901, 0.59944008, -0.70711297, -0.46725789]\n",
      "[0.74135401, -1.21969916, -0.16302764, 0.07988306, 2.16060047]\n",
      "[0.60793035, 0.57354901, -0.16302764, 0.07988306, -0.46725789]\n",
      "[0.74135401, 0.57354901, -0.16302764, 0.86687908, -0.46725789]\n",
      "[0.74135401, 0.57354901, 2.07672128, -2.22489102, -0.46725789]\n",
      "[0.80997189, -1.21969916, -0.16302764, -0.70711297, -0.46725789]\n",
      "[0.74135401, 0.57354901, -0.16302764, 0.86687908, -0.46725789]\n",
      "[0.60793035, -1.21969916, -0.16302764, 0.86687908, -0.46725789]\n",
      "[0.47450669, -1.21969916, -0.16302764, 0.86687908, -0.46725789]\n",
      "[-1.38580031, -1.21969916, -0.16302764, -0.70711297, -0.46725789]\n",
      "[-1.90805862, 0.57354901, -0.16302764, 0.86687908, -0.46725789]\n",
      "[-1.64502341, -1.21969916, -0.16302764, 0.07988306, -0.46725789]\n",
      "[-1.38580031, 2.22885501, -0.16302764, 1.59766111, -0.46725789]\n",
      "[-1.32099453, 0.57354901, -0.87784112, 0.07988306, 0.4560437]\n",
      "[-1.05795932, 0.57354901, -3.06993581, 0.86687908, -0.46725789]\n"
     ]
    }
   ],
   "source": [
    "data = [[ 0.60793035, 0.57354901, -0.16302764,  0.07988306, -1.31953627],\n",
    " [ 0.74135401,0.57354901,  0.59944008, -2.22489102,  2.16060047],\n",
    " [ 0.60793035,-1.21969916,  1.31425357, -0.70711297,  2.16060047],\n",
    " [ 0.53931247, 0.57354901,  1.31425357,  0.07988306,  0.4560437 ],\n",
    " [ 0.74135401, 0.57354901,  0.59944008, -0.70711297, -0.46725789],\n",
    " [ 0.74135401,-1.21969916, -0.16302764,  0.07988306,  2.16060047],\n",
    " [ 0.60793035, 0.57354901, -0.16302764,  0.07988306, -0.46725789],\n",
    " [ 0.74135401, 0.57354901, -0.16302764,  0.86687908, -0.46725789],\n",
    " [ 0.74135401,  0.57354901,  2.07672128, -2.22489102, -0.46725789],\n",
    " [ 0.80997189, -1.21969916, -0.16302764, -0.70711297, -0.46725789],\n",
    " [ 0.74135401,  0.57354901, -0.16302764, 0.86687908, -0.46725789],\n",
    " [ 0.60793035, -1.21969916, -0.16302764,  0.86687908, -0.46725789],\n",
    " [ 0.47450669, -1.21969916, -0.16302764,  0.86687908, -0.46725789],\n",
    " [-1.38580031, -1.21969916, -0.16302764, -0.70711297, -0.46725789],\n",
    " [-1.90805862,  0.57354901, -0.16302764,  0.86687908, -0.46725789],\n",
    " [-1.64502341, -1.21969916, -0.16302764,  0.07988306, -0.46725789],\n",
    " [-1.38580031,  2.22885501, -0.16302764,  1.59766111, -0.46725789],\n",
    " [-1.32099453, 0.57354901, -0.87784112,  0.07988306,  0.4560437 ],\n",
    " [-1.05795932,  0.57354901, -3.06993581,  0.86687908, -0.46725789]]\n",
    "\n",
    "X_input = deque(maxlen=num_rows)\n",
    "\n",
    "for row in data:\n",
    "    X_input.append(row)\n",
    "\n",
    "for row in X_input:\n",
    "    print(row)"
   ]
  },
  {
   "cell_type": "code",
   "execution_count": 28,
   "id": "8f36ba80",
   "metadata": {},
   "outputs": [],
   "source": [
    "y_pred_test = loaded_model.predict(X_input)"
   ]
  },
  {
   "cell_type": "code",
   "execution_count": 29,
   "id": "ab7e031b",
   "metadata": {},
   "outputs": [
    {
     "data": {
      "text/plain": [
       "array([5, 4, 2, 0, 2, 2, 2, 5, 1, 2, 5, 3, 3, 2, 5, 2, 5, 3, 3],\n",
       "      dtype=int64)"
      ]
     },
     "execution_count": 29,
     "metadata": {},
     "output_type": "execute_result"
    }
   ],
   "source": [
    "y_pred_test"
   ]
  },
  {
   "cell_type": "code",
   "execution_count": null,
   "id": "8ffda0c2",
   "metadata": {},
   "outputs": [],
   "source": []
  }
 ],
 "metadata": {
  "kernelspec": {
   "display_name": "Python 3 (ipykernel)",
   "language": "python",
   "name": "python3"
  },
  "language_info": {
   "codemirror_mode": {
    "name": "ipython",
    "version": 3
   },
   "file_extension": ".py",
   "mimetype": "text/x-python",
   "name": "python",
   "nbconvert_exporter": "python",
   "pygments_lexer": "ipython3",
   "version": "3.9.13"
  }
 },
 "nbformat": 4,
 "nbformat_minor": 5
}
